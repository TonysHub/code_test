{
 "cells": [
  {
   "cell_type": "code",
   "execution_count": 36,
   "metadata": {},
   "outputs": [],
   "source": [
    "## 오답노트 및  복습\n",
    "\n",
    "# 1.1 Is Unique, check if string has all unique characters\n",
    "\n",
    "s1 = \"c e k ju\"\n",
    "\n",
    "# Assumption, all lower case, if not I'd have to use .lower()\n",
    "\n",
    "def is_unique(s1)->bool:\n",
    "    s1 = s1.replace(\" \",\"\")\n",
    "    return len(set(s1)) == len(s1)"
   ]
  },
  {
   "cell_type": "code",
   "execution_count": 37,
   "metadata": {},
   "outputs": [
    {
     "data": {
      "text/plain": [
       "True"
      ]
     },
     "execution_count": 37,
     "metadata": {},
     "output_type": "execute_result"
    }
   ],
   "source": [
    "is_unique(s1)"
   ]
  },
  {
   "cell_type": "code",
   "execution_count": 33,
   "metadata": {},
   "outputs": [],
   "source": [
    "# 1.2 Check permutation, given two strings, write a method to decide if one is a permu of the other\n",
    "## Assumption: all lower case, no space -> if yes, replace() & lower()\n",
    "\n",
    "s1, s2 = \"wef34f\", \"wffe34\"\n",
    "\n",
    "def check_permutation(s1, s2)->bool:\n",
    "    return sorted(s1) == sorted(s2)"
   ]
  },
  {
   "cell_type": "code",
   "execution_count": 34,
   "metadata": {},
   "outputs": [
    {
     "data": {
      "text/plain": [
       "True"
      ]
     },
     "execution_count": 34,
     "metadata": {},
     "output_type": "execute_result"
    }
   ],
   "source": [
    "check_permutation(s1, s2)"
   ]
  },
  {
   "cell_type": "code",
   "execution_count": 46,
   "metadata": {},
   "outputs": [],
   "source": [
    "# 1.3 URLify, replace space with %20\n",
    "## Assumption: not longer than 128 bits\n",
    "\n",
    "s1 = \"Mr John Smith      \"\n",
    "n = 13"
   ]
  },
  {
   "cell_type": "code",
   "execution_count": 47,
   "metadata": {},
   "outputs": [],
   "source": [
    "def convert_url(s1, n)->str:\n",
    "    result = \"\"\n",
    "    for i in range(n):\n",
    "        if s1[i] == \" \":\n",
    "            result += \"%20\"\n",
    "        else: \n",
    "            result += s1[i]\n",
    "    return result"
   ]
  },
  {
   "cell_type": "code",
   "execution_count": 48,
   "metadata": {},
   "outputs": [
    {
     "data": {
      "text/plain": [
       "'Mr%20John%20Smith'"
      ]
     },
     "execution_count": 48,
     "metadata": {},
     "output_type": "execute_result"
    }
   ],
   "source": [
    "convert_url(s1, n)"
   ]
  },
  {
   "cell_type": "code",
   "execution_count": 49,
   "metadata": {},
   "outputs": [],
   "source": [
    "## Pythonic\n",
    "\n",
    "def convert_url_pythonic(s1, n)->str:\n",
    "    return s1[:n].replace(\" \", \"%20\")"
   ]
  },
  {
   "cell_type": "code",
   "execution_count": 50,
   "metadata": {},
   "outputs": [
    {
     "data": {
      "text/plain": [
       "'Mr%20John%20Smith'"
      ]
     },
     "execution_count": 50,
     "metadata": {},
     "output_type": "execute_result"
    }
   ],
   "source": [
    "convert_url_pythonic(s1,n)"
   ]
  },
  {
   "cell_type": "code",
   "execution_count": 92,
   "metadata": {},
   "outputs": [],
   "source": [
    "# 1.4 Palindrome Permutation\n",
    "## Assumption: ignore white space and uppercase, no special char\n",
    "\n",
    "import string\n",
    "from collections import Counter\n",
    "s1 = \"aabbaann\"\n",
    "\n",
    "def check_palindrome_permutation(s1)->bool:\n",
    "    s1_clean = [c for c in s1.lower() if c in string.ascii_lowercase]\n",
    "    counter = Counter(s1_clean)\n",
    "    return sum(val %2 for val in counter.values()) <=1\n"
   ]
  },
  {
   "cell_type": "code",
   "execution_count": 93,
   "metadata": {},
   "outputs": [
    {
     "data": {
      "text/plain": [
       "True"
      ]
     },
     "execution_count": 93,
     "metadata": {},
     "output_type": "execute_result"
    }
   ],
   "source": [
    "check_palindrome_permutation(s1)"
   ]
  },
  {
   "cell_type": "code",
   "execution_count": 184,
   "metadata": {},
   "outputs": [],
   "source": [
    "# 1.5 One Away\n",
    "## Assumption: all lower case, no white space, no special char\n",
    "\n",
    "\n",
    "def one_away(s1, s2)->bool:\n",
    "\n",
    "    if abs(len(s1) - len(s2)) == 1: # one deletion or insertion check\n",
    "        long = max([s1,s2], key=len)\n",
    "        short = min([s1,s2], key=len)\n",
    "        i=j=0\n",
    "        while j < len(short):\n",
    "            if s1[i] == s2[j]:\n",
    "                i+=1\n",
    "                j+=1\n",
    "            else: return False\n",
    "        return True\n",
    "\n",
    "    if len(s1) == len(s2): # replace\n",
    "        edits = False\n",
    "        for c1, c2 in zip(s1, s2):\n",
    "            if c1 != c2:\n",
    "                if edits:\n",
    "                    return False\n",
    "                edits = True\n",
    "        return True\n",
    "        \n",
    "    \n"
   ]
  },
  {
   "cell_type": "code",
   "execution_count": 185,
   "metadata": {},
   "outputs": [
    {
     "data": {
      "text/plain": [
       "False"
      ]
     },
     "execution_count": 185,
     "metadata": {},
     "output_type": "execute_result"
    }
   ],
   "source": [
    "s1, s2 = \"pale\", \"pela\"\n",
    "one_away(s1,s2)"
   ]
  },
  {
   "cell_type": "code",
   "execution_count": 205,
   "metadata": {},
   "outputs": [],
   "source": [
    "# 1.6 String Compression\n",
    "\n",
    "def string_comp(s1)-> str:\n",
    "    if len(s1) == len(set(s1)):\n",
    "        return s1\n",
    "    result=\"\"\n",
    "    count=1 \n",
    "    i=0\n",
    "    # for i, c in enumerate(s1):\n",
    "    while i < len(s1) -1:\n",
    "        if s1[i] == s1[i+1]:\n",
    "            count+=1\n",
    "            \n",
    "        else:\n",
    "            result+= s1[i]+str(count)\n",
    "            count=1\n",
    "        i+=1\n",
    "    result += s1[i] + str(count)\n",
    "    return result"
   ]
  },
  {
   "cell_type": "code",
   "execution_count": 206,
   "metadata": {},
   "outputs": [
    {
     "data": {
      "text/plain": [
       "'a4b1c4a2'"
      ]
     },
     "execution_count": 206,
     "metadata": {},
     "output_type": "execute_result"
    }
   ],
   "source": [
    "s1 = 'aaaabccccaa'\n",
    "# s1 = \"avb\"\n",
    "\n",
    "string_comp(s1)"
   ]
  },
  {
   "cell_type": "code",
   "execution_count": 232,
   "metadata": {},
   "outputs": [],
   "source": [
    "# 1.8 Zero Matrix\n",
    "\n",
    "def zero_matrix(m1)->list:\n",
    "    m = len(m1[0])\n",
    "    n = len(m1)\n",
    "    for i in range(n):\n",
    "        for j in range(m):\n",
    "            if 0 == m1[i][j]:\n",
    "                m1 = [[0]*m]*n\n",
    "                return m1\n",
    "    return m1"
   ]
  },
  {
   "cell_type": "code",
   "execution_count": 233,
   "metadata": {},
   "outputs": [
    {
     "data": {
      "text/plain": [
       "[[2, 3, 5], [12, 35, 6]]"
      ]
     },
     "execution_count": 233,
     "metadata": {},
     "output_type": "execute_result"
    }
   ],
   "source": [
    "# m1 = [  [0, 0, 0, 0, 0, 6],\n",
    "#         [0, 0, 0, 0, 0, 8],\n",
    "#         [11, 0, 13, 14, 0, 4],\n",
    "#         [0, 0, 0, 0, 0, 124],\n",
    "#         [21, 0, 23, 24, 0, 1232],]\n",
    "\n",
    "m2 = [\n",
    "        [2,3,5],\n",
    "        [12,35,6]]\n",
    "zero_matrix(m2)"
   ]
  },
  {
   "cell_type": "code",
   "execution_count": 220,
   "metadata": {},
   "outputs": [
    {
     "data": {
      "text/plain": [
       "[[0, 0, 0, 0, 0, 0],\n",
       " [0, 0, 0, 0, 0, 0],\n",
       " [0, 0, 0, 0, 0, 0],\n",
       " [0, 0, 0, 0, 0, 0],\n",
       " [0, 0, 0, 0, 0, 0]]"
      ]
     },
     "execution_count": 220,
     "metadata": {},
     "output_type": "execute_result"
    }
   ],
   "source": [
    " "
   ]
  },
  {
   "cell_type": "code",
   "execution_count": null,
   "metadata": {},
   "outputs": [],
   "source": []
  }
 ],
 "metadata": {
  "kernelspec": {
   "display_name": "practice",
   "language": "python",
   "name": "python3"
  },
  "language_info": {
   "codemirror_mode": {
    "name": "ipython",
    "version": 3
   },
   "file_extension": ".py",
   "mimetype": "text/x-python",
   "name": "python",
   "nbconvert_exporter": "python",
   "pygments_lexer": "ipython3",
   "version": "3.11.1 (v3.11.1:a7a450f84a, Dec  6 2022, 15:24:06) [Clang 13.0.0 (clang-1300.0.29.30)]"
  },
  "orig_nbformat": 4,
  "vscode": {
   "interpreter": {
    "hash": "48d984a6e967484e24839f175cc2f413394baade0dd9ecf58ebf2b9c00e8be58"
   }
  }
 },
 "nbformat": 4,
 "nbformat_minor": 2
}
