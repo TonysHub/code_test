{
 "cells": [
  {
   "cell_type": "code",
   "execution_count": 1,
   "metadata": {},
   "outputs": [],
   "source": [
    "# 1.6 String Compression -- GOOD\n",
    "from collections import Counter\n",
    "def comp(s1):\n",
    "    counter = 1\n",
    "    comp_s1 = \"\"\n",
    "    i = 0\n",
    "    if len(s1) == len(set(s1)):\n",
    "        return s1\n",
    "    while i < len(s1) -1:\n",
    "        if s1[i] == s1[i+1]:\n",
    "            counter +=1\n",
    "            i +=1\n",
    "        else: #output\n",
    "            comp_s1 += s1[i] + str(counter)\n",
    "            counter = 1\n",
    "            i+=1\n",
    "    comp_s1 += s1[i] + str(counter)\n",
    "    return comp_s1\n",
    "\n",
    "    \n"
   ]
  },
  {
   "cell_type": "code",
   "execution_count": 5,
   "metadata": {},
   "outputs": [
    {
     "data": {
      "text/plain": [
       "'a5b3c2'"
      ]
     },
     "execution_count": 5,
     "metadata": {},
     "output_type": "execute_result"
    }
   ],
   "source": [
    "s1 = \"aaaaabbbcc\"\n",
    "\n",
    "comp(s1)\n"
   ]
  },
  {
   "cell_type": "code",
   "execution_count": 75,
   "metadata": {},
   "outputs": [
    {
     "data": {
      "text/plain": [
       "[[1, 2, 3], [4, 5, 6], [7, 8, 9]]"
      ]
     },
     "execution_count": 75,
     "metadata": {},
     "output_type": "execute_result"
    }
   ],
   "source": [
    "#1.7 Rotate Matrix - GOOD! but i did it counter clockwise LOL\n",
    "import numpy as np\n",
    "matrix =([[1, 2, 3], [4, 5, 6], [7, 8, 9]])\n",
    "matrix\n"
   ]
  },
  {
   "cell_type": "code",
   "execution_count": 91,
   "metadata": {},
   "outputs": [],
   "source": [
    "matrix = [\n",
    "                [1, 2, 3, 4, 5],\n",
    "                [6, 7, 8, 9, 10],\n",
    "                [11, 12, 13, 14, 15],\n",
    "                [16, 17, 18, 19, 20],\n",
    "                [21, 22, 23, 24, 25],\n",
    "            ]"
   ]
  },
  {
   "cell_type": "code",
   "execution_count": 92,
   "metadata": {},
   "outputs": [
    {
     "data": {
      "text/plain": [
       "[[5, 10, 15, 20, 25],\n",
       " [4, 9, 14, 19, 24],\n",
       " [3, 8, 13, 18, 23],\n",
       " [2, 7, 12, 17, 22],\n",
       " [1, 6, 11, 16, 21]]"
      ]
     },
     "execution_count": 92,
     "metadata": {},
     "output_type": "execute_result"
    }
   ],
   "source": [
    "n = len(matrix)\n",
    "result = [[0]*n for i in range(n)] #initialize result matrix with zeros\n",
    "i=0\n",
    "j=0\n",
    "k = n-1\n",
    "for i in range(n):\n",
    "    for j in range(n):\n",
    "        result[k][i] = matrix[i][j]\n",
    "        k-=1\n",
    "    k = n-1\n",
    "result\n"
   ]
  },
  {
   "cell_type": "code",
   "execution_count": 102,
   "metadata": {},
   "outputs": [],
   "source": [
    "# Zero Matrix -- Wrong!\n",
    "\n",
    "# MxN matrix\n",
    "\n",
    "matrix = [\n",
    "                [1, 2, 3, 4, 0, 9],\n",
    "                [6, 0, 8, 9, 10, 7],\n",
    "                [11, 12, 13, 14, 15, 6],\n",
    "                [16, 0, 18, 19, 20, 4],\n",
    "                [21, 22, 23, 24, 25, 6],\n",
    "            ]\n"
   ]
  },
  {
   "cell_type": "code",
   "execution_count": 107,
   "metadata": {},
   "outputs": [
    {
     "data": {
      "text/plain": [
       "[[0, 0, 0, 0, 0, 0],\n",
       " [0, 0, 0, 0, 0, 0],\n",
       " [2162160, 2162160, 2162160, 2162160, 2162160, 2162160],\n",
       " [0, 0, 0, 0, 0, 0],\n",
       " [38253600, 38253600, 38253600, 38253600, 38253600, 38253600]]"
      ]
     },
     "execution_count": 107,
     "metadata": {},
     "output_type": "execute_result"
    }
   ],
   "source": [
    "m = len(matrix) #5\n",
    "n = len(matrix[0]) #6\n",
    "result = [[0]*n for i in range(m)]\n",
    "\n",
    "for i in range(m):\n",
    "    for j in range(n):\n",
    "        result[i][j] = np.prod(matrix[i])\n",
    "    \n",
    "result"
   ]
  },
  {
   "cell_type": "code",
   "execution_count": 128,
   "metadata": {},
   "outputs": [],
   "source": [
    "# 1.9 String rotation -- Correct but the solution was better pythonic!\n",
    "\n",
    "s1, s2 = \"foo\", \"foofoo\""
   ]
  },
  {
   "cell_type": "code",
   "execution_count": 129,
   "metadata": {},
   "outputs": [],
   "source": [
    "def string_rotation(s1, s2): # assume all lowercase, no space\n",
    "\n",
    "    if len(s1) != len(s2):\n",
    "        return False\n",
    "    for i, c in enumerate(s1):\n",
    "        if c == s2[0]:\n",
    "            s2_new = s2[-i:] + s2[:-i]\n",
    "            break\n",
    "\n",
    "    return s1==s2_new\n",
    "\n",
    "    "
   ]
  },
  {
   "cell_type": "code",
   "execution_count": 130,
   "metadata": {},
   "outputs": [
    {
     "data": {
      "text/plain": [
       "False"
      ]
     },
     "execution_count": 130,
     "metadata": {},
     "output_type": "execute_result"
    }
   ],
   "source": [
    "string_rotation(s1, s2)"
   ]
  },
  {
   "cell_type": "code",
   "execution_count": null,
   "metadata": {},
   "outputs": [],
   "source": []
  }
 ],
 "metadata": {
  "kernelspec": {
   "display_name": "practice",
   "language": "python",
   "name": "python3"
  },
  "language_info": {
   "codemirror_mode": {
    "name": "ipython",
    "version": 3
   },
   "file_extension": ".py",
   "mimetype": "text/x-python",
   "name": "python",
   "nbconvert_exporter": "python",
   "pygments_lexer": "ipython3",
   "version": "3.11.1"
  },
  "orig_nbformat": 4,
  "vscode": {
   "interpreter": {
    "hash": "48d984a6e967484e24839f175cc2f413394baade0dd9ecf58ebf2b9c00e8be58"
   }
  }
 },
 "nbformat": 4,
 "nbformat_minor": 2
}
