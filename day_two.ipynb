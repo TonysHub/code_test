{
 "cells": [
  {
   "cell_type": "code",
   "execution_count": 2,
   "metadata": {},
   "outputs": [],
   "source": [
    "# 1.2 Check permutation\n",
    "\n",
    "def check_permutation(s1, s2):\n",
    "    if len(s1) != len(s2):\n",
    "        return False\n",
    "    s1, s2 = sorted(s1), sorted(s2)\n",
    "    for i in range(len(s1)):\n",
    "        if s1[i] != s2[i]:\n",
    "            return False\n",
    "    return True"
   ]
  },
  {
   "cell_type": "code",
   "execution_count": 27,
   "metadata": {},
   "outputs": [],
   "source": [
    "# 1.3 URLify\n",
    "\n",
    "def to_url(s1,true_len):\n",
    "    s1_url=''\n",
    "    counter=0\n",
    "    while counter < true_len:\n",
    "        if list(s1)[counter] == \" \":\n",
    "            s1_url+=\"%20\"\n",
    "        else:\n",
    "            s1_url+=list(s1)[counter]\n",
    "        counter+=1\n",
    "    return s1_url, counter"
   ]
  },
  {
   "cell_type": "code",
   "execution_count": 32,
   "metadata": {},
   "outputs": [
    {
     "data": {
      "text/plain": [
       "('%20a%20b%20', 5)"
      ]
     },
     "execution_count": 32,
     "metadata": {},
     "output_type": "execute_result"
    }
   ],
   "source": [
    "# to_url(\"Mr John Smith  \", 13)\n",
    "to_url(\" a b       \", 5)"
   ]
  },
  {
   "cell_type": "code",
   "execution_count": 33,
   "metadata": {},
   "outputs": [],
   "source": [
    "# 1.3 URLify - pythonic solution\n",
    "\n",
    "def urlify_pythonic(text, length):\n",
    "    \"\"\"solution using standard library\"\"\"\n",
    "    return text[:length].replace(\" \", \"%20\")"
   ]
  },
  {
   "cell_type": "code",
   "execution_count": 35,
   "metadata": {},
   "outputs": [],
   "source": [
    "# 1.4 Palindrome Permutation - wrong solution!!!! didn't understand the question correclty\n",
    "def check_pal_per(s1, s2):\n",
    "    return set(list(s1)) == set(list(s2))"
   ]
  },
  {
   "cell_type": "code",
   "execution_count": 40,
   "metadata": {},
   "outputs": [
    {
     "data": {
      "text/plain": [
       "True"
      ]
     },
     "execution_count": 40,
     "metadata": {},
     "output_type": "execute_result"
    }
   ],
   "source": [
    "s1, s2 = [\"cat\", \"atc\"]\n",
    "check_pal_per(s1, s2)"
   ]
  },
  {
   "cell_type": "code",
   "execution_count": 41,
   "metadata": {},
   "outputs": [
    {
     "data": {
      "text/plain": [
       "8"
      ]
     },
     "execution_count": 41,
     "metadata": {},
     "output_type": "execute_result"
    }
   ],
   "source": [
    "\n",
    "len(list(s1))"
   ]
  },
  {
   "cell_type": "code",
   "execution_count": 12,
   "metadata": {},
   "outputs": [],
   "source": [
    "from collections import Counter\n",
    "\n",
    "def check_palindrom_permu(s1):\n",
    "    s1 = s1.replace(\" \", \"\")\n",
    "    counter = Counter(s1)\n",
    "    return sum(val % 2 for val in counter.values()) <= 1"
   ]
  },
  {
   "cell_type": "code",
   "execution_count": 13,
   "metadata": {},
   "outputs": [
    {
     "data": {
      "text/plain": [
       "8"
      ]
     },
     "execution_count": 13,
     "metadata": {},
     "output_type": "execute_result"
    }
   ],
   "source": [
    "s1 = \"atac cata\"\n",
    "s1 = s1.replace(\" \", \"\")\n",
    "counter = Counter(s1)\n",
    "sum(counter.values())"
   ]
  },
  {
   "cell_type": "code",
   "execution_count": 14,
   "metadata": {},
   "outputs": [
    {
     "data": {
      "text/plain": [
       "True"
      ]
     },
     "execution_count": 14,
     "metadata": {},
     "output_type": "execute_result"
    }
   ],
   "source": [
    "check_palindrom_permu(s1)"
   ]
  },
  {
   "cell_type": "code",
   "execution_count": 37,
   "metadata": {},
   "outputs": [],
   "source": [
    "# 1.5 One Away\n",
    "from collections import Counter\n",
    "\n",
    "def one_away(s1, s2):\n",
    "    if s1 == s2:\n",
    "        return True\n",
    "    if len(s1) == len(s2):\n",
    "        return sum((Counter(s1)&Counter(s2)).values()) == len(s1)-1\n",
    "    if abs(len(s1) - len(s2)) == 1:\n",
    "        return abs(sum(Counter(s1).values()) - sum(Counter(s2).values())) == 1\n",
    "    else: return False"
   ]
  },
  {
   "cell_type": "code",
   "execution_count": 43,
   "metadata": {},
   "outputs": [
    {
     "data": {
      "text/plain": [
       "True"
      ]
     },
     "execution_count": 43,
     "metadata": {},
     "output_type": "execute_result"
    }
   ],
   "source": [
    "s1, s2 = [\"ale\", \"elas\"]\n",
    "\n",
    "one_away(s1, s2)\n",
    "# c = Counter(s1) & Counter(s2)\n",
    "# c"
   ]
  },
  {
   "cell_type": "code",
   "execution_count": null,
   "metadata": {},
   "outputs": [],
   "source": []
  }
 ],
 "metadata": {
  "kernelspec": {
   "display_name": "Python 3",
   "language": "python",
   "name": "python3"
  },
  "language_info": {
   "codemirror_mode": {
    "name": "ipython",
    "version": 3
   },
   "file_extension": ".py",
   "mimetype": "text/x-python",
   "name": "python",
   "nbconvert_exporter": "python",
   "pygments_lexer": "ipython3",
   "version": "3.11.1"
  },
  "orig_nbformat": 4,
  "vscode": {
   "interpreter": {
    "hash": "aee8b7b246df8f9039afb4144a1f6fd8d2ca17a180786b69acc140d282b71a49"
   }
  }
 },
 "nbformat": 4,
 "nbformat_minor": 2
}
