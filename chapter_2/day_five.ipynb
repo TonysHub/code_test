{
 "cells": [
  {
   "cell_type": "code",
   "execution_count": 85,
   "metadata": {},
   "outputs": [],
   "source": [
    "## Linked List\n",
    "from linked_list import LinkedList"
   ]
  },
  {
   "cell_type": "code",
   "execution_count": 167,
   "metadata": {},
   "outputs": [],
   "source": [
    "# 2.1 Remove Duplicates from an unsorted linked list \n",
    "\n",
    "def remove_duplicates(ll)->list:\n",
    "    dup = set()\n",
    "    cur = ll.head\n",
    "    prev = None\n",
    "    while cur:\n",
    "        if cur.value in dup:\n",
    "            prev.next = cur.next\n",
    "        else:\n",
    "            prev = cur\n",
    "            dup.add(cur.value)\n",
    "        cur = cur.next\n",
    "    # ll.tail = prev\n",
    "    return ll\n",
    "\n"
   ]
  },
  {
   "cell_type": "code",
   "execution_count": 168,
   "metadata": {},
   "outputs": [],
   "source": [
    "ll = LinkedList.generate(100, 0,9)\n"
   ]
  },
  {
   "cell_type": "code",
   "execution_count": 169,
   "metadata": {},
   "outputs": [
    {
     "name": "stdout",
     "output_type": "stream",
     "text": [
      "1 -> 2 -> 4 -> 6 -> 2 -> 1 -> 7 -> 8 -> 5 -> 6 -> 4 -> 4 -> 2 -> 0 -> 8 -> 8 -> 3 -> 0 -> 2 -> 5 -> 3 -> 5 -> 5 -> 6 -> 2 -> 4 -> 7 -> 7 -> 0 -> 8 -> 6 -> 4 -> 7 -> 8 -> 8 -> 7 -> 6 -> 5 -> 4 -> 0 -> 4 -> 1 -> 5 -> 8 -> 8 -> 1 -> 8 -> 3 -> 5 -> 8 -> 5 -> 3 -> 3 -> 8 -> 2 -> 5 -> 6 -> 7 -> 7 -> 1 -> 3 -> 6 -> 1 -> 1 -> 7 -> 6 -> 8 -> 5 -> 2 -> 8 -> 0 -> 8 -> 4 -> 5 -> 7 -> 5 -> 8 -> 4 -> 6 -> 8 -> 2 -> 5 -> 1 -> 4 -> 4 -> 4 -> 2 -> 3 -> 0 -> 7 -> 4 -> 1 -> 6 -> 8 -> 4 -> 5 -> 5 -> 0 -> 6 -> 6\n"
     ]
    }
   ],
   "source": [
    "print(ll)\n"
   ]
  },
  {
   "cell_type": "code",
   "execution_count": 170,
   "metadata": {},
   "outputs": [
    {
     "name": "stdout",
     "output_type": "stream",
     "text": [
      "1 -> 2 -> 4 -> 6 -> 7 -> 8 -> 5 -> 0 -> 3\n"
     ]
    }
   ],
   "source": [
    "print(remove_duplicates(ll))"
   ]
  },
  {
   "cell_type": "code",
   "execution_count": null,
   "metadata": {},
   "outputs": [],
   "source": []
  }
 ],
 "metadata": {
  "kernelspec": {
   "display_name": "code_test",
   "language": "python",
   "name": "python3"
  },
  "language_info": {
   "codemirror_mode": {
    "name": "ipython",
    "version": 3
   },
   "file_extension": ".py",
   "mimetype": "text/x-python",
   "name": "python",
   "nbconvert_exporter": "python",
   "pygments_lexer": "ipython3",
   "version": "3.11.1"
  },
  "orig_nbformat": 4,
  "vscode": {
   "interpreter": {
    "hash": "3871b0a9a42d918f40daff8448b2a1b122e4fd4055bccb3ba0da72c29a25731a"
   }
  }
 },
 "nbformat": 4,
 "nbformat_minor": 2
}
