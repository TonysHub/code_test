{
 "cells": [
  {
   "cell_type": "code",
   "execution_count": 3,
   "metadata": {},
   "outputs": [],
   "source": [
    "## Linked List\n",
    "from linked_list import LinkedList, LinkedListNode"
   ]
  },
  {
   "cell_type": "code",
   "execution_count": 50,
   "metadata": {},
   "outputs": [],
   "source": [
    "# 2.1 Remove Duplicates from an unsorted linked list \n",
    "\n",
    "def remove_duplicates(ll)->list:\n",
    "    dup = set()\n",
    "    cur = ll.head\n",
    "    prev = None\n",
    "    while cur:\n",
    "        if cur.value in dup:\n",
    "            prev.next = cur.next\n",
    "        else:\n",
    "            prev = cur\n",
    "            dup.add(cur.value)\n",
    "        cur = cur.next\n",
    "    # ll.tail = prev\n",
    "    return ll\n",
    "\n"
   ]
  },
  {
   "cell_type": "code",
   "execution_count": 51,
   "metadata": {},
   "outputs": [],
   "source": [
    "ll = LinkedList.generate(100, 0,9)\n"
   ]
  },
  {
   "cell_type": "code",
   "execution_count": 52,
   "metadata": {},
   "outputs": [
    {
     "name": "stdout",
     "output_type": "stream",
     "text": [
      "7 -> 8 -> 6 -> 1 -> 0 -> 3 -> 3 -> 4 -> 1 -> 3 -> 8 -> 6 -> 3 -> 5 -> 2 -> 4 -> 2 -> 6 -> 4 -> 8 -> 8 -> 2 -> 4 -> 2 -> 2 -> 4 -> 7 -> 4 -> 3 -> 4 -> 1 -> 0 -> 0 -> 7 -> 6 -> 4 -> 5 -> 5 -> 7 -> 7 -> 1 -> 6 -> 7 -> 6 -> 0 -> 3 -> 2 -> 8 -> 4 -> 0 -> 0 -> 8 -> 2 -> 5 -> 8 -> 1 -> 1 -> 0 -> 4 -> 7 -> 2 -> 4 -> 1 -> 8 -> 1 -> 8 -> 3 -> 6 -> 1 -> 7 -> 5 -> 7 -> 5 -> 5 -> 0 -> 3 -> 5 -> 8 -> 3 -> 6 -> 2 -> 0 -> 0 -> 4 -> 8 -> 8 -> 0 -> 5 -> 6 -> 2 -> 7 -> 1 -> 6 -> 0 -> 2 -> 0 -> 4 -> 3 -> 4 -> 0\n"
     ]
    }
   ],
   "source": [
    "print(ll)\n"
   ]
  },
  {
   "cell_type": "code",
   "execution_count": 53,
   "metadata": {},
   "outputs": [
    {
     "name": "stdout",
     "output_type": "stream",
     "text": [
      "7 -> 8 -> 6 -> 1 -> 0 -> 3 -> 4 -> 5 -> 2\n"
     ]
    }
   ],
   "source": [
    "print(remove_duplicates(ll))"
   ]
  },
  {
   "cell_type": "code",
   "execution_count": 32,
   "metadata": {},
   "outputs": [],
   "source": [
    "# 2.2 Return Kth to last\n",
    "# O(n)\n",
    "def return_kth_last(ll, k):\n",
    "    n = len(ll) - k\n",
    "    cur = ll.head\n",
    "    for _ in range(n):\n",
    "        cur = cur.next\n",
    "    print(cur.value)\n",
    "    return cur"
   ]
  },
  {
   "cell_type": "code",
   "execution_count": 91,
   "metadata": {},
   "outputs": [],
   "source": [
    "ll = LinkedList.generate(10, 0,9)\n"
   ]
  },
  {
   "cell_type": "code",
   "execution_count": 34,
   "metadata": {},
   "outputs": [
    {
     "name": "stdout",
     "output_type": "stream",
     "text": [
      "0 -> 6 -> 2 -> 1 -> 2 -> 2 -> 8 -> 6 -> 7 -> 2\n"
     ]
    }
   ],
   "source": [
    "print(ll)"
   ]
  },
  {
   "cell_type": "code",
   "execution_count": 40,
   "metadata": {},
   "outputs": [
    {
     "name": "stdout",
     "output_type": "stream",
     "text": [
      "6\n"
     ]
    },
    {
     "data": {
      "text/plain": [
       "<linked_list.LinkedListNode at 0x106cf1490>"
      ]
     },
     "execution_count": 40,
     "metadata": {},
     "output_type": "execute_result"
    }
   ],
   "source": [
    "return_kth_last(ll, 3)"
   ]
  },
  {
   "cell_type": "code",
   "execution_count": 151,
   "metadata": {},
   "outputs": [],
   "source": [
    "# 2.3 delete middle node - misunderstood the question to remove element but solved it\n",
    "# Assume unique chars, c in ll\n",
    "def delete_mid_node(ll, c):\n",
    "    dummy = LinkedListNode(-1)\n",
    "    dummy.next = ll.head\n",
    "    cur = dummy\n",
    "    while cur.next:\n",
    "        if cur.next.value == c:\n",
    "            cur.next = cur.next.next\n",
    "        else: \n",
    "            cur = cur.next\n",
    "    return dummy.next\n",
    "    \n"
   ]
  },
  {
   "cell_type": "code",
   "execution_count": 152,
   "metadata": {},
   "outputs": [
    {
     "name": "stdout",
     "output_type": "stream",
     "text": [
      "4 -> 1 -> 8 -> 7 -> 1 -> 3 -> 1 -> 6 -> 6 -> 2\n"
     ]
    }
   ],
   "source": [
    "ll = LinkedList.generate(10, 0,9)\n",
    "print(ll)"
   ]
  },
  {
   "cell_type": "code",
   "execution_count": 153,
   "metadata": {},
   "outputs": [
    {
     "data": {
      "text/plain": [
       "<linked_list.LinkedListNode at 0x1211af610>"
      ]
     },
     "execution_count": 153,
     "metadata": {},
     "output_type": "execute_result"
    }
   ],
   "source": [
    "delete_mid_node(ll, 1)"
   ]
  },
  {
   "cell_type": "code",
   "execution_count": 154,
   "metadata": {},
   "outputs": [
    {
     "name": "stdout",
     "output_type": "stream",
     "text": [
      "4 -> 8 -> 7 -> 3 -> 6 -> 6 -> 2\n"
     ]
    }
   ],
   "source": [
    "print(ll)"
   ]
  },
  {
   "cell_type": "code",
   "execution_count": 163,
   "metadata": {},
   "outputs": [],
   "source": [
    "# Real 2.3\n",
    "ll = LinkedList.generate(10, 0,9)\n",
    "\n",
    "def remove_middle_node(node):\n",
    "    node.value = node.next.value\n",
    "    node.next = node.next.next\n",
    "    return node\n",
    "\n"
   ]
  },
  {
   "cell_type": "code",
   "execution_count": 164,
   "metadata": {},
   "outputs": [
    {
     "name": "stdout",
     "output_type": "stream",
     "text": [
      "1 -> 2 -> 3 -> 4\n"
     ]
    }
   ],
   "source": [
    "ll = LinkedList()\n",
    "ll.add_multiple([1, 2, 3, 4])\n",
    "print(ll)"
   ]
  },
  {
   "cell_type": "code",
   "execution_count": 165,
   "metadata": {},
   "outputs": [
    {
     "name": "stdout",
     "output_type": "stream",
     "text": [
      "1 -> 2 -> 3 -> 4 -> 5 -> 7 -> 8 -> 9\n"
     ]
    }
   ],
   "source": [
    "middle_node = ll.add(5)\n",
    "ll.add_multiple([7, 8, 9])\n",
    "print(ll)"
   ]
  },
  {
   "cell_type": "code",
   "execution_count": 168,
   "metadata": {},
   "outputs": [
    {
     "name": "stdout",
     "output_type": "stream",
     "text": [
      "1 -> 2 -> 3 -> 4 -> 7 -> 8 -> 9\n"
     ]
    }
   ],
   "source": [
    "remove_middle_node(middle_node)\n",
    "print(ll)"
   ]
  },
  {
   "cell_type": "code",
   "execution_count": 212,
   "metadata": {},
   "outputs": [],
   "source": [
    "# 2.4 Partition\n",
    "\n",
    "def partition(ll, n):\n",
    "    cur, low, high = ll.head, LinkedList(), LinkedList()\n",
    "    while cur:\n",
    "        if cur.value < n:\n",
    "            low.add(cur.value)\n",
    "        else:\n",
    "            high.add(cur.value)\n",
    "        cur = cur.next\n",
    "    low.tail.next = high.head\n",
    "    return low\n"
   ]
  },
  {
   "cell_type": "code",
   "execution_count": 215,
   "metadata": {},
   "outputs": [
    {
     "name": "stdout",
     "output_type": "stream",
     "text": [
      "6 -> 5 -> 8 -> 8 -> 1 -> 1 -> 0 -> 6 -> 6 -> 1\n"
     ]
    }
   ],
   "source": [
    "ll = LinkedList.generate(10, 0,9)\n",
    "\n",
    "print(ll)"
   ]
  },
  {
   "cell_type": "code",
   "execution_count": 218,
   "metadata": {},
   "outputs": [
    {
     "name": "stdout",
     "output_type": "stream",
     "text": [
      "1 -> 1 -> 0 -> 1 -> 6 -> 5 -> 8 -> 8 -> 6 -> 6\n"
     ]
    }
   ],
   "source": [
    "print(partition(ll,5))\n"
   ]
  },
  {
   "cell_type": "code",
   "execution_count": 230,
   "metadata": {},
   "outputs": [
    {
     "name": "stdout",
     "output_type": "stream",
     "text": [
      "1 -> 2 -> 2 \n",
      " 2 -> 6 -> 8\n"
     ]
    }
   ],
   "source": [
    "ll_a = LinkedList.generate(3, 0,9)\n",
    "ll_b = LinkedList.generate(3, 0,9)\n",
    "print(ll_a ,\"\\n\",ll_b)\n"
   ]
  },
  {
   "cell_type": "code",
   "execution_count": 235,
   "metadata": {},
   "outputs": [],
   "source": [
    "# Assume same number of digits, both arrays exist\n",
    "def sum_linked_list(ll_a, ll_b):\n",
    "    cur1 = ll_a.head\n",
    "    cur2 = ll_b.head\n",
    "    res = LinkedList()\n",
    "    carry = 0\n",
    "    while cur1:\n",
    "        result = cur1.value + cur2.value + carry\n",
    "        if result >= 10:\n",
    "            result = result % 10\n",
    "            carry +=1\n",
    "        res.add(result)\n",
    "        if cur1.next is None and carry:\n",
    "            res.add(carry)\n",
    "        carry = 0\n",
    "        cur1 = cur1.next\n",
    "        cur2 = cur2.next\n",
    "    print(res)\n",
    "    return res\n"
   ]
  },
  {
   "cell_type": "code",
   "execution_count": 236,
   "metadata": {},
   "outputs": [
    {
     "name": "stdout",
     "output_type": "stream",
     "text": [
      "3 -> 8 -> 0 -> 1\n"
     ]
    },
    {
     "data": {
      "text/plain": [
       "<linked_list.LinkedList at 0x28b2f41d0>"
      ]
     },
     "execution_count": 236,
     "metadata": {},
     "output_type": "execute_result"
    }
   ],
   "source": [
    "sum_linked_list(ll_a, ll_b)"
   ]
  },
  {
   "cell_type": "code",
   "execution_count": 58,
   "metadata": {},
   "outputs": [
    {
     "name": "stdout",
     "output_type": "stream",
     "text": [
      "2 -> 3 -> 2 -> 4 -> 4 -> 7\n"
     ]
    }
   ],
   "source": [
    "# 복습\n",
    "# 2.1 Remove Duplicates\n",
    "\n",
    "ll21 = LinkedList.generate(6, 0,9)\n",
    "print(ll21)"
   ]
  },
  {
   "cell_type": "code",
   "execution_count": 59,
   "metadata": {},
   "outputs": [],
   "source": [
    "def remove_duplicates(ll):\n",
    "    cur = ll.head\n",
    "    dups = set()\n",
    "    prev = None\n",
    "    while cur:\n",
    "        if cur.value in dups:\n",
    "            prev.next = cur.next\n",
    "        else:\n",
    "            prev = cur\n",
    "            dups.add(cur.value)\n",
    "            \n",
    "        cur = cur.next\n",
    "    return ll"
   ]
  },
  {
   "cell_type": "code",
   "execution_count": 60,
   "metadata": {},
   "outputs": [
    {
     "data": {
      "text/plain": [
       "<linked_list.LinkedList at 0x119264750>"
      ]
     },
     "execution_count": 60,
     "metadata": {},
     "output_type": "execute_result"
    }
   ],
   "source": [
    "remove_duplicates(ll21)"
   ]
  },
  {
   "cell_type": "code",
   "execution_count": 61,
   "metadata": {},
   "outputs": [
    {
     "name": "stdout",
     "output_type": "stream",
     "text": [
      "2 -> 3 -> 4 -> 7\n"
     ]
    }
   ],
   "source": [
    "print(ll21)"
   ]
  },
  {
   "cell_type": "code",
   "execution_count": 76,
   "metadata": {},
   "outputs": [],
   "source": [
    "# 2.2 Return Kth to Last\n",
    "\n",
    "def return_kth_to_last(ll, k):\n",
    "    leader = follower = ll.head\n",
    "    count = 0\n",
    "    while leader:\n",
    "        if count >= k:\n",
    "            follower = follower.next\n",
    "        count +=1\n",
    "        leader = leader.next\n",
    "    return follower\n"
   ]
  },
  {
   "cell_type": "code",
   "execution_count": 81,
   "metadata": {},
   "outputs": [
    {
     "name": "stdout",
     "output_type": "stream",
     "text": [
      "3 -> 4 -> 6 -> 5 -> 1 -> 5\n"
     ]
    }
   ],
   "source": [
    "ll22 = LinkedList.generate(6, 0,9)\n",
    "print(ll22)"
   ]
  },
  {
   "cell_type": "code",
   "execution_count": 78,
   "metadata": {},
   "outputs": [
    {
     "name": "stdout",
     "output_type": "stream",
     "text": [
      "7\n"
     ]
    }
   ],
   "source": [
    "print(return_kth_to_last(ll22,3 ))"
   ]
  },
  {
   "cell_type": "code",
   "execution_count": 65,
   "metadata": {},
   "outputs": [
    {
     "name": "stdout",
     "output_type": "stream",
     "text": [
      "0 -> 5 -> 4 -> 1 -> 0 -> 0\n"
     ]
    }
   ],
   "source": [
    "print(ll22)"
   ]
  },
  {
   "cell_type": "code",
   "execution_count": 109,
   "metadata": {},
   "outputs": [
    {
     "name": "stdout",
     "output_type": "stream",
     "text": [
      "5 -> 6 -> 0 -> 5 -> 8 -> 0\n"
     ]
    }
   ],
   "source": [
    "ll23 = LinkedList.generate(6, 0, 9)\n",
    "print(ll23)"
   ]
  },
  {
   "cell_type": "code",
   "execution_count": 110,
   "metadata": {},
   "outputs": [],
   "source": [
    "# 2.3 Delete middle node\n",
    "def delete_middle_node(node):\n",
    "    node.value = node.next.value\n",
    "    node.next = node.next.next\n",
    "    return node"
   ]
  },
  {
   "cell_type": "code",
   "execution_count": 121,
   "metadata": {},
   "outputs": [
    {
     "name": "stdout",
     "output_type": "stream",
     "text": [
      "7 -> 1 -> 1 -> 7 -> 5 -> 0\n"
     ]
    }
   ],
   "source": [
    "## First attempt ##\n",
    "# 2.6 Palindrome - done on leetcode\n",
    "# 2.7 Intersection - done on leetcode"
   ]
  },
  {
   "cell_type": "code",
   "execution_count": 122,
   "metadata": {},
   "outputs": [],
   "source": [
    "## Practiced on Leetcode ##"
   ]
  },
  {
   "cell_type": "code",
   "execution_count": 123,
   "metadata": {},
   "outputs": [
    {
     "name": "stdout",
     "output_type": "stream",
     "text": [
      "0\n"
     ]
    }
   ],
   "source": []
  },
  {
   "cell_type": "code",
   "execution_count": 124,
   "metadata": {},
   "outputs": [
    {
     "name": "stdout",
     "output_type": "stream",
     "text": [
      "7\n"
     ]
    }
   ],
   "source": []
  },
  {
   "cell_type": "code",
   "execution_count": null,
   "metadata": {},
   "outputs": [],
   "source": []
  }
 ],
 "metadata": {
  "kernelspec": {
   "display_name": "practice",
   "language": "python",
   "name": "python3"
  },
  "language_info": {
   "codemirror_mode": {
    "name": "ipython",
    "version": 3
   },
   "file_extension": ".py",
   "mimetype": "text/x-python",
   "name": "python",
   "nbconvert_exporter": "python",
   "pygments_lexer": "ipython3",
   "version": "3.11.1 (v3.11.1:a7a450f84a, Dec  6 2022, 15:24:06) [Clang 13.0.0 (clang-1300.0.29.30)]"
  },
  "orig_nbformat": 4,
  "vscode": {
   "interpreter": {
    "hash": "48d984a6e967484e24839f175cc2f413394baade0dd9ecf58ebf2b9c00e8be58"
   }
  }
 },
 "nbformat": 4,
 "nbformat_minor": 2
}
